{
 "cells": [
  {
   "cell_type": "code",
   "execution_count": 1,
   "metadata": {},
   "outputs": [],
   "source": [
    "import csv\n",
    "import numpy as np\n",
    "import pandas as pd\n",
    "pd.set_option('display.min_rows', 20)\n",
    "import matplotlib.pyplot as plt\n",
    "%matplotlib inline\n",
    "import matplotlib.patches as mpatches\n",
    "import matplotlib.lines as mlines"
   ]
  },
  {
   "cell_type": "code",
   "execution_count": 2,
   "metadata": {},
   "outputs": [
    {
     "ename": "FileNotFoundError",
     "evalue": "[Errno 2] No such file or directory: 'company_sales_data.csv'",
     "output_type": "error",
     "traceback": [
      "\u001b[1;31m---------------------------------------------------------------------------\u001b[0m",
      "\u001b[1;31mFileNotFoundError\u001b[0m                         Traceback (most recent call last)",
      "\u001b[1;32m<ipython-input-2-cdd08b48c4e4>\u001b[0m in \u001b[0;36m<module>\u001b[1;34m\u001b[0m\n\u001b[1;32m----> 1\u001b[1;33m \u001b[0mf\u001b[0m \u001b[1;33m=\u001b[0m \u001b[0mopen\u001b[0m\u001b[1;33m(\u001b[0m\u001b[1;34m'company_sales_data.csv'\u001b[0m\u001b[1;33m)\u001b[0m\u001b[1;33m\u001b[0m\u001b[1;33m\u001b[0m\u001b[0m\n\u001b[0m\u001b[0;32m      2\u001b[0m \u001b[0msalesDF\u001b[0m \u001b[1;33m=\u001b[0m \u001b[0mpd\u001b[0m\u001b[1;33m.\u001b[0m\u001b[0mread_csv\u001b[0m\u001b[1;33m(\u001b[0m\u001b[0mf\u001b[0m\u001b[1;33m,\u001b[0m \u001b[0mdelimiter\u001b[0m\u001b[1;33m=\u001b[0m \u001b[1;34m';'\u001b[0m\u001b[1;33m)\u001b[0m\u001b[1;33m\u001b[0m\u001b[1;33m\u001b[0m\u001b[0m\n\u001b[0;32m      3\u001b[0m \u001b[1;33m\u001b[0m\u001b[0m\n\u001b[0;32m      4\u001b[0m \u001b[0mprofitList\u001b[0m \u001b[1;33m=\u001b[0m \u001b[0msalesDF\u001b[0m\u001b[1;33m[\u001b[0m\u001b[1;34m'total_profit'\u001b[0m\u001b[1;33m]\u001b[0m\u001b[1;33m.\u001b[0m\u001b[0mtolist\u001b[0m\u001b[1;33m(\u001b[0m\u001b[1;33m)\u001b[0m\u001b[1;33m\u001b[0m\u001b[1;33m\u001b[0m\u001b[0m\n\u001b[0;32m      5\u001b[0m \u001b[0mmonthList\u001b[0m \u001b[1;33m=\u001b[0m \u001b[0msalesDF\u001b[0m\u001b[1;33m[\u001b[0m\u001b[1;34m'month_number'\u001b[0m\u001b[1;33m]\u001b[0m\u001b[1;33m.\u001b[0m\u001b[0mtolist\u001b[0m\u001b[1;33m(\u001b[0m\u001b[1;33m)\u001b[0m\u001b[1;33m\u001b[0m\u001b[1;33m\u001b[0m\u001b[0m\n",
      "\u001b[1;31mFileNotFoundError\u001b[0m: [Errno 2] No such file or directory: 'company_sales_data.csv'"
     ]
    }
   ],
   "source": [
    "f = open('company_sales_data.csv')\n",
    "salesDF = pd.read_csv(f, delimiter= ';')\n",
    "\n",
    "profitList = salesDF['total_profit'].tolist()\n",
    "monthList = salesDF['month_number'].tolist()\n",
    "\n",
    "plt.plot(monthList, profitList)\n",
    "plt.xlabel('Month Number')\n",
    "plt.ylabel('Total Profit')\n",
    "plt.title('Company profit per month')\n",
    "plt.xticks(np.arange(1, 13, step=1))\n",
    "plt.ylim(100000,500000)\n",
    "plt.yticks(np.arange(100000, 500001, step=100000))\n",
    "\n",
    "plt.show()"
   ]
  },
  {
   "cell_type": "code",
   "execution_count": null,
   "metadata": {},
   "outputs": [],
   "source": [
    "f = open('company_sales_data.csv')\n",
    "salesDF = pd.read_csv(f, delimiter= ';')\n",
    "\n",
    "profitList = salesDF['total_profit'].tolist()\n",
    "monthList = salesDF['month_number'].tolist()\n",
    "\n",
    "plt.figure(figsize=(12,7))\n",
    "\n",
    "plt.xlabel('Número do mês')\n",
    "plt.ylabel('Número de unidades vendidas')\n",
    "plt.title('Company profit per month')\n",
    "plt.plot(monthList, profitList, color='red', linestyle='dotted', linewidth = 3, \n",
    "         marker='o', markerfacecolor='red', markersize=7) \n",
    "\n",
    "legend = mlines.Line2D([], [], color='red', linestyle='dotted', linewidth = 3, \n",
    "         marker='o', markerfacecolor='red', markersize=7, label='Profit data of last year')\n",
    "plt.legend(handles=[legend], loc='lower right')\n",
    "plt.xticks(np.arange(1, 13, step=1))\n",
    "\n",
    "plt.show()\n"
   ]
  },
  {
   "cell_type": "code",
   "execution_count": null,
   "metadata": {},
   "outputs": [],
   "source": [
    "profitList = salesDF['total_profit'].tolist()\n",
    "monthList = salesDF['month_number'].tolist()\n",
    "facecreamList = salesDF['facecream'].tolist()\n",
    "facewashList = salesDF['facewash'].tolist()\n",
    "toothpasteList = salesDF['toothpaste'].tolist()\n",
    "bathingsoapList = salesDF['bathingsoap'].tolist()\n",
    "shampooList = salesDF['shampoo'].tolist()\n",
    "moisturizerList = salesDF['moisturizer'].tolist()\n",
    "unitsList = salesDF['total_units'].tolist()\n",
    "\n",
    "plt.figure(figsize=(12,7))\n",
    "plt.xlabel('Número do mês')\n",
    "plt.ylabel('Número de unidades vendidas')\n",
    "plt.title('Sales data')\n",
    "\n",
    "\n",
    "x = monthList\n",
    "yfc = facecreamList\n",
    "plt.plot(monthList, facecreamList)\n",
    "plt.plot(x, yfc, label = \"Facecream\")\n",
    "plt.plot(monthList, facecreamList, color='aqua', linestyle='solid', linewidth = 5, \n",
    "         marker='o', markerfacecolor='k', markersize=7)\n",
    "\n",
    "yfw = facewashList\n",
    "plt.plot(monthList, facewashList)\n",
    "plt.plot(x, yfw, label = \"Facewash\")\n",
    "plt.plot(monthList, facewashList, color='orchid', linestyle='solid', linewidth = 5, \n",
    "         marker='o', markerfacecolor='k', markersize=7)\n",
    "\n",
    "yt = toothpasteList\n",
    "plt.plot(monthList, toothpasteList)\n",
    "plt.plot(x, yt, label = \"Toothpaste\")\n",
    "plt.plot(monthList, toothpasteList, color='greenyellow', linestyle='solid', linewidth = 5, \n",
    "         marker='o', markerfacecolor='k', markersize=7)\n",
    "\n",
    "\n",
    "ybs = bathingsoapList\n",
    "plt.plot(monthList, bathingsoapList)\n",
    "plt.plot(x, ybs, label = \"Bathingsoap\")\n",
    "plt.plot(monthList, bathingsoapList, color='orangered', linestyle='solid', linewidth = 5, \n",
    "         marker='o', markerfacecolor='k', markersize=7)\n",
    "\n",
    "ysl = shampooList\n",
    "plt.plot(monthList, shampooList)\n",
    "plt.plot(x, ysl, label = \"Shampoo\")\n",
    "plt.plot(monthList, shampooList, color='gold', linestyle='solid', linewidth = 5, \n",
    "         marker='o', markerfacecolor='k', markersize=7)\n",
    "\n",
    "yms = moisturizerList\n",
    "plt.plot(monthList, moisturizerList)\n",
    "plt.plot(x, yms, label = \"Moisturizer\")\n",
    "plt.plot(monthList, moisturizerList, color='mediumblue', linestyle='solid', linewidth = 5, \n",
    "         marker='o', markerfacecolor='k', markersize=7)\n",
    "\n",
    "plt.legend()\n",
    "plt.legend(loc='upper left')\n",
    "plt.xticks(np.arange(1, 13, step=1))\n",
    "\n",
    "plt.show()\n",
    "\n"
   ]
  },
  {
   "cell_type": "code",
   "execution_count": null,
   "metadata": {
    "scrolled": true
   },
   "outputs": [],
   "source": [
    "soma_facecream = sum(facecreamList)\n",
    "soma_facewash = sum(facewashList)\n",
    "soma_toothpaste = sum(toothpasteList)\n",
    "soma_bathingsoap = sum(bathingsoapList)\n",
    "soma_shampoo = sum(shampooList)\n",
    "soma_moisturizer = sum(moisturizerList)\n",
    "soma_units = sum(unitsList)\n",
    "\n",
    "\n",
    "activities = ['Facecream', 'Facewash', 'Toothpaste', 'Bathingsoap', 'Shampoo', 'Moisturizer'] \n",
    "slices = [soma_facecream, soma_facewash, soma_toothpaste, soma_bathingsoap, soma_shampoo, soma_moisturizer]\n",
    "colors = ['aqua', 'orchid', 'greenyellow', 'orangered', 'gold', 'mediumblue']\n",
    "plt.pie(slices, labels=activities, colors=colors,\n",
    "autopct='%1.1f%%', shadow=True, startangle=140) \n",
    "plt.legend()\n",
    "plt.show()"
   ]
  }
 ],
 "metadata": {
  "kernelspec": {
   "display_name": "Python 3",
   "language": "python",
   "name": "python3"
  },
  "language_info": {
   "codemirror_mode": {
    "name": "ipython",
    "version": 3
   },
   "file_extension": ".py",
   "mimetype": "text/x-python",
   "name": "python",
   "nbconvert_exporter": "python",
   "pygments_lexer": "ipython3",
   "version": "3.7.6"
  }
 },
 "nbformat": 4,
 "nbformat_minor": 4
}
