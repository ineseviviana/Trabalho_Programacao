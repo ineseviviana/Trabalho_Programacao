{
 "cells": [
  {
   "cell_type": "code",
   "execution_count": null,
   "metadata": {},
   "outputs": [],
   "source": [
    "#Questão B\n",
    "\n",
    "Cada cor representa um dos cinco continentes em estudo, isto é América, Ásia, Europa, Oceânia e África.\n",
    "Cada bolha representa um país.\n",
    "\n",
    "O código c=tmp['continent'].cat.codes é utilizado para definir as diferentes cores a ser utilizadas.\n",
    "O código cmap=\"Accent\" é utilizado para definir que cor é destinada a cada continente."
   ]
  }
 ],
 "metadata": {
  "kernelspec": {
   "display_name": "Python 3",
   "language": "python",
   "name": "python3"
  },
  "language_info": {
   "codemirror_mode": {
    "name": "ipython",
    "version": 3
   },
   "file_extension": ".py",
   "mimetype": "text/x-python",
   "name": "python",
   "nbconvert_exporter": "python",
   "pygments_lexer": "ipython3",
   "version": "3.7.6"
  }
 },
 "nbformat": 4,
 "nbformat_minor": 4
}
