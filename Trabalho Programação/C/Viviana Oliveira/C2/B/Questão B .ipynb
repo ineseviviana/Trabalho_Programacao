{
 "cells": [
  {
   "cell_type": "code",
   "execution_count": null,
   "metadata": {},
   "outputs": [],
   "source": [
    "# Questão B\n",
    " O gráfico contém 5 cores diferentes e cada uma dessas cores representa um continente, África, América, Europa, Oceânia e Ásia\n",
    "e cada bolha representa um país.\n",
    "\n",
    "Usa-se  c=tmp['continent'].cat.codes  para definir as cores que serão usadas.\n",
    "Usa-se  cmap=\"Accent\"  para atribuir cada cor a cada continente.\n",
    "\n"
   ]
  }
 ],
 "metadata": {
  "kernelspec": {
   "display_name": "Python 3",
   "language": "python",
   "name": "python3"
  },
  "language_info": {
   "codemirror_mode": {
    "name": "ipython",
    "version": 3
   },
   "file_extension": ".py",
   "mimetype": "text/x-python",
   "name": "python",
   "nbconvert_exporter": "python",
   "pygments_lexer": "ipython3",
   "version": "3.7.6"
  }
 },
 "nbformat": 4,
 "nbformat_minor": 4
}
