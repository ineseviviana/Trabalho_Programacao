{
 "cells": [
  {
   "cell_type": "code",
   "execution_count": 1,
   "metadata": {},
   "outputs": [],
   "source": [
    "## 1: https://github.com/datauy/obesity-cartogram/blob/master/data/data_from_daniel/obesidad_en_el_mundo_corregido_comas.csv\n",
    "        \n",
    "\n",
    "\n",
    "\n",
    "    "
   ]
  },
  {
   "cell_type": "code",
   "execution_count": 2,
   "metadata": {},
   "outputs": [],
   "source": [
    "## 2: Escolhemos este conjunto de dados por se tratar de um tópico bastante relevante à sociedade atual e que desperta\n",
    "## também algum interesse em nós.\n",
    "    \n",
    "\n"
   ]
  },
  {
   "cell_type": "code",
   "execution_count": 3,
   "metadata": {},
   "outputs": [],
   "source": [
    "## 3: Estes dados tratam-se de um cartograma sobre os níveis de obesidade em todos os países do mundo. O cartograma divide-se\n",
    "## em linhas e colunas, dentro das linhas apresenta os diferentes países e nas diferentes colunas analisa dados como a população \n",
    "## em 2005, o número de população obesa no geral, o número de homens obesos em 2002, 2005 e 2010 e o número de mulheres obesas\n",
    "## em 2002, 2005 e 2010.\n",
    "## O gráfico dividese em 13 colunas:\n",
    "## Fips/ iso2 / iso3 : Formas de abreviatiura do nome de cada país.\n",
    "## name : Nome do país em análise\n",
    "## pop2005 : Número da população num dado país em 2005\n",
    "## un : número de população obesa\n",
    "## hombres_2002/hombres_2005/hombres_2010 : percentagem de homens obesos no respetivo ano\n",
    "## mujeres_2002/mujeres_2005/mujeres_2010 : percentagem de mulheres obesas no respetivo ano\n",
    "## cartodb_id : chave primária do dataset, com valores únicos e nunca nulos"
   ]
  },
  {
   "cell_type": "code",
   "execution_count": 10,
   "metadata": {},
   "outputs": [
    {
     "name": "stdout",
     "output_type": "stream",
     "text": [
      "  fips iso2 iso3           name    pop2005   un  hombres_2002  hombres_2005  \\\n",
      "0   CA   CA  CAN         Canada   32270507  124     64.524150     65.116510   \n",
      "1   RS   RU  RUS         Russia  143953092  643     46.480830     46.480830   \n",
      "2   AY   AQ  ATA     Antarctica          0   10     50.000000     50.000000   \n",
      "3   BV   BV  BVT  Bouvet Island          0   74     50.000000     50.000000   \n",
      "4   RE   RE  REU        Reunion     785159  638     50.000000     50.000000   \n",
      "5   AN   AD  AND        Andorra      73483   20     59.760490     60.852930   \n",
      "6   JO   JO  JOR         Jordan    5544066  400     57.510200     57.510200   \n",
      "7   AU   AT  AUT        Austria    8291979   40     58.987310     60.982370   \n",
      "8   ID   ID  IDN      Indonesia  226063044  360      9.599894      9.700229   \n",
      "9   SN   SG  SGP      Singapore    4327468  702     23.557570     23.781390   \n",
      "\n",
      "   hombres_2010  mujeres_2002  mujeres_2005  mujeres_2010  cartodb_id  \n",
      "0     66.896030      55.93882      57.07345      59.53802          17  \n",
      "1     46.480830      51.71488      51.71488      51.71488         158  \n",
      "2     50.000000      50.00000      50.00000      50.00000         124  \n",
      "3     50.000000      50.00000      50.00000      50.00000         125  \n",
      "4     50.000000      50.00000      50.00000      50.00000         151  \n",
      "5     62.506910      65.54434      66.79694      68.69843         112  \n",
      "6     57.510200      67.34183      63.39558      65.37988          66  \n",
      "7     62.928330      53.42688      53.20512      55.17270         155  \n",
      "8      9.869341      20.29148      22.73942      27.12082         210  \n",
      "9     24.124110      20.69036      22.02383      26.71405         169  \n"
     ]
    }
   ],
   "source": [
    "#4\n",
    "import pandas as pd\n",
    "\n",
    "url = 'https://raw.githubusercontent.com/datauy/obesity-cartogram/master/data/data_from_daniel/obesidad_en_el_mundo_corregido_comas.csv'\n",
    "df = pd.read_csv(url)\n",
    "\n",
    "print(df.head(10))\n"
   ]
  },
  {
   "cell_type": "code",
   "execution_count": 11,
   "metadata": {},
   "outputs": [
    {
     "data": {
      "text/plain": [
       "fips             object\n",
       "iso2             object\n",
       "iso3             object\n",
       "name             object\n",
       "pop2005           int64\n",
       "un                int64\n",
       "hombres_2002    float64\n",
       "hombres_2005    float64\n",
       "hombres_2010    float64\n",
       "mujeres_2002    float64\n",
       "mujeres_2005    float64\n",
       "mujeres_2010    float64\n",
       "cartodb_id        int64\n",
       "dtype: object"
      ]
     },
     "execution_count": 11,
     "metadata": {},
     "output_type": "execute_result"
    }
   ],
   "source": [
    "## 5: Os dados vêm em object (string), int64 e float64.\n",
    "df.dtypes"
   ]
  },
  {
   "cell_type": "code",
   "execution_count": null,
   "metadata": {},
   "outputs": [],
   "source": []
  }
 ],
 "metadata": {
  "kernelspec": {
   "display_name": "Python 3",
   "language": "python",
   "name": "python3"
  },
  "language_info": {
   "codemirror_mode": {
    "name": "ipython",
    "version": 3
   },
   "file_extension": ".py",
   "mimetype": "text/x-python",
   "name": "python",
   "nbconvert_exporter": "python",
   "pygments_lexer": "ipython3",
   "version": "3.7.6"
  }
 },
 "nbformat": 4,
 "nbformat_minor": 4
}
